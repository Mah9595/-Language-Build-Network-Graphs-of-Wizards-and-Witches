{
 "cells": [
  {
   "cell_type": "markdown",
   "metadata": {},
   "source": [
    "# Introduction\n",
    "In Part III, you performed sentiment analysis on the books and plotted them together. \n",
    "\n",
    "From the plot, you derived a qualitative understanding on how the sentiment changed throughout the books. \n",
    "\n",
    "Text analysis comes in many forms, and in this Part, we will look at text data a different way - word clouds.\n",
    "\n",
    "Useful text: https://www.datacamp.com/community/tutorials/wordcloud-python"
   ]
  },
  {
   "cell_type": "markdown",
   "metadata": {},
   "source": [
    "### Step 1: Import libraries\n",
    "Let's start with importing the following libraries: \n",
    "- pandas as pd\n",
    "- wordcloud\n",
    "- STOPWORDS from wordcloud\n",
    "- matplotlib.pyplot as plt"
   ]
  },
  {
   "cell_type": "code",
   "execution_count": null,
   "metadata": {},
   "outputs": [],
   "source": [
    "# Step 1: Import libraries"
   ]
  },
  {
   "cell_type": "markdown",
   "metadata": {},
   "source": [
    "### Step 2: Read Part I CSV as DataFrame\n",
    "We'll use the CSV that we exported at the end of Part I."
   ]
  },
  {
   "cell_type": "code",
   "execution_count": null,
   "metadata": {},
   "outputs": [],
   "source": [
    "# Step 2: Read Part I CSV as DataFrame"
   ]
  },
  {
   "cell_type": "markdown",
   "metadata": {},
   "source": [
    "## Wordcloud for one text\n",
    "Let's give one text a try first. We'll start with Book 1 first.\n",
    "\n",
    "### Step 3: Get Book 1 text\n",
    "Declare a variable, and save the string from the first Book in it."
   ]
  },
  {
   "cell_type": "code",
   "execution_count": null,
   "metadata": {},
   "outputs": [],
   "source": [
    "# Step 3: Get Book 1 text"
   ]
  },
  {
   "cell_type": "markdown",
   "metadata": {},
   "source": [
    "### Step 4: Turn all string in Book 1 text to be lowercase\n",
    "Use the .lower method to turn everythin in the string to be lower case."
   ]
  },
  {
   "cell_type": "code",
   "execution_count": null,
   "metadata": {},
   "outputs": [],
   "source": [
    "# Step 4: Lowercase everything in the string from Step 3"
   ]
  },
  {
   "cell_type": "markdown",
   "metadata": {},
   "source": [
    "### Step 5: Declare a WordCloud object\n",
    "Create a WordCloud object and assign it to a variable. \n",
    "\n",
    "Parameters to consider:\n",
    "- max_words = 50\n",
    "\n",
    "We do this because we want a wordcloud that does not look too crowded with words. "
   ]
  },
  {
   "cell_type": "code",
   "execution_count": null,
   "metadata": {},
   "outputs": [],
   "source": [
    "# Step 5: Declare a WordCloud object"
   ]
  },
  {
   "cell_type": "markdown",
   "metadata": {},
   "source": [
    "### Step 6: Call the .generate method to generate wordcloud\n",
    "Now that you have the WordCloud object, call its .generate method with the text from Step 4 to generate a wordcloud."
   ]
  },
  {
   "cell_type": "code",
   "execution_count": null,
   "metadata": {},
   "outputs": [],
   "source": [
    "# Step 6: Call .generate wordcloud with text"
   ]
  },
  {
   "cell_type": "markdown",
   "metadata": {},
   "source": [
    "### Step 7: Plot the wordcloud\n",
    "Now that you have generated the wordcloud, it's time to plot it! \n",
    "\n",
    "Use both .imshow and .show methods from the matplotlib.pyplot to plot your wordcloud.\n",
    "\n",
    "Make sure you read the reading above in the Introduction if you're unsure. "
   ]
  },
  {
   "cell_type": "code",
   "execution_count": null,
   "metadata": {},
   "outputs": [],
   "source": [
    "# Step 7: Plot the wordcloud"
   ]
  },
  {
   "cell_type": "markdown",
   "metadata": {},
   "source": [
    "<details>\n",
    "    <summary><strong>Click once to see if you got what we did</strong></summary>\n",
    "    <img src='https://uplevelsg.s3-ap-southeast-1.amazonaws.com/ProjectHarryPotter/BookOneWordcloud.png'>\n",
    "</details>"
   ]
  },
  {
   "cell_type": "markdown",
   "metadata": {},
   "source": [
    "## Build wordclouds for all texts\n",
    "Now that we've worked out how to build wordclouds for a single Book, let's do it for all! \n",
    "\n",
    "### Step 8: Repeat Steps 4-7 for all Books\n",
    "Loop through the full texts in the DataFrame and build wordclouds for all of them."
   ]
  },
  {
   "cell_type": "code",
   "execution_count": null,
   "metadata": {
    "scrolled": true
   },
   "outputs": [],
   "source": [
    "# Step 8: Repeat Steps 4-7 for all Books"
   ]
  },
  {
   "cell_type": "markdown",
   "metadata": {},
   "source": [
    "<details>\n",
    "    <summary><strong>Wait a minute...this ain't right. What do you think is an issue with the wordclouds you have plotted? Click once to see what we think</strong></summary>\n",
    "    <div>Looks like all of the word clouds had nothing but \"harry\", \"ron\", and \"hermoione\". The other words are drowned by these three huge words</div>\n",
    "</details>"
   ]
  },
  {
   "cell_type": "markdown",
   "metadata": {},
   "source": [
    "### Step 9: Add prominent characters' names to STOPWORDS\n",
    "Based on the wordclouds, only three characters' names feature prominently. This is not surprising.\n",
    "\n",
    "Can we improve the analysis? Yes we definitely can. \n",
    "\n",
    "Remember the STOPWORDS that you imported at the start of this Part? We'll add the following words to STOPWORDS:\n",
    "- harry\n",
    "- ron\n",
    "- hermione\n",
    "- said\n",
    "- back\n",
    "\n",
    "We add other words that don't really contribute to the wordcloud as well.\n",
    "\n",
    "STOPWORDS is a set, so you'll have to figure out how you can add to a set."
   ]
  },
  {
   "cell_type": "code",
   "execution_count": null,
   "metadata": {},
   "outputs": [],
   "source": [
    "# Step 9: Add words to STOPWORDS"
   ]
  },
  {
   "cell_type": "markdown",
   "metadata": {},
   "source": [
    "### Step 10: Repeat Step 8 with additional stopwords\n",
    "Now that you have updated the STOPWORDS with additional strings, let's repeat Step 8. \n",
    "\n",
    "When you declare the variable containing the WordCloud object, don't forget the stopwords parameter - just use the updated STOPWORDS.\n",
    "\n",
    "You should see words will tell you who are the prominent characters in the respective Books apart from Harry, Ron, and Hermione."
   ]
  },
  {
   "cell_type": "code",
   "execution_count": null,
   "metadata": {
    "scrolled": true
   },
   "outputs": [],
   "source": [
    "# Step 10: Repeat Step 8 with stopword parameters used"
   ]
  },
  {
   "cell_type": "markdown",
   "metadata": {},
   "source": [
    "### End of Part IV\n",
    "And we're done! In this Part, we used wordclouds to analyze the books.\n",
    "\n",
    "We also updated the stopwords so that we can remove the frequently mentioned characters, and identify frequently mentioned characters other than the trio.\n",
    "\n",
    "In Part V, we will conclude the project series with network analysis of the characters."
   ]
  }
 ],
 "metadata": {
  "kernelspec": {
   "display_name": "Python 3",
   "language": "python",
   "name": "python3"
  },
  "language_info": {
   "codemirror_mode": {
    "name": "ipython",
    "version": 3
   },
   "file_extension": ".py",
   "mimetype": "text/x-python",
   "name": "python",
   "nbconvert_exporter": "python",
   "pygments_lexer": "ipython3",
   "version": "3.8.3"
  }
 },
 "nbformat": 4,
 "nbformat_minor": 4
}
