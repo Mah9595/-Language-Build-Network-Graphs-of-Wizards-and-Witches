{
 "cells": [
  {
   "cell_type": "markdown",
   "metadata": {},
   "source": [
    "# Introduction\n",
    "In Part I, you collected the data necessary for the project. \n",
    "\n",
    "In this Part, you'll start data analysis proper! More specifically, you will:\n",
    "- explore the dataset\n",
    "- generate metrics from the texts\n",
    "- compare the metrics\n",
    "- tell data stories\n",
    "\n",
    "The kinds of metrics we're using are exciting, ranging from simple ones such as length and number of sentences, to more complex measures such as readability. \n",
    "\n",
    "Useful readings on visualization: \n",
    "<a href = \"https://towardsdatascience.com/introduction-to-data-visualization-in-python-89a54c97fbed\">Introduction to Data Visualization in Python</a> (run it in Incognito Mode if you face the paywall)\n",
    "\n",
    "It's quite comprehensive and a useful guide for this Part if you're new to visualization.\n",
    "\n",
    "### Step 1: Import (and install) libraries\n",
    "Let's start with importing the libraries that we need:\n",
    "- pandas as pd\n",
    "- matplotlib.pyplot\n",
    "- string\n",
    "\n",
    "You <em>might</em> need to install the following libraries if you've never done so:\n",
    "- wordcloud\n",
    "- vaderSentiment\n",
    "- sent_tokenize, word_tokenize from nltk\n",
    "- textstat"
   ]
  },
  {
   "cell_type": "code",
   "execution_count": null,
   "metadata": {},
   "outputs": [],
   "source": [
    "# Step 1: Import libraries"
   ]
  },
  {
   "cell_type": "markdown",
   "metadata": {},
   "source": [
    "### Step 2: Read CSV from Part I\n",
    "Let's read the CSV that we have obtained from Part I. Your DataFrame should look something like this:\n",
    "\n",
    "![PartIDataFrame](https://uplevelsg.s3-ap-southeast-1.amazonaws.com/ProjectHarryPotter/PartIDataFrame.png)"
   ]
  },
  {
   "cell_type": "code",
   "execution_count": null,
   "metadata": {},
   "outputs": [],
   "source": [
    "# Step 2: Read your Part I CSV into a DataFrame"
   ]
  },
  {
   "cell_type": "markdown",
   "metadata": {},
   "source": [
    "## Generating metrics\n",
    "In this section, we'll start creating some metrics that we can use for visualization and comparison later. \n",
    "\n",
    "### Step 3: Get the character length of the texts\n",
    "How many characters are there in each text? Create a column named \"char_length\" that contains it.\n",
    "\n",
    "![CharLengthColumn](https://uplevelsg.s3-ap-southeast-1.amazonaws.com/ProjectHarryPotter/CharLengthColumn.png)\n",
    "\n",
    "This can be done using the <font color=\"green\">len</font> function. Hopefully the numbers are similar to ours, but don't worry if you're off by 1%. "
   ]
  },
  {
   "cell_type": "code",
   "execution_count": null,
   "metadata": {},
   "outputs": [],
   "source": [
    "# Step 3: Create 'char_length' column"
   ]
  },
  {
   "cell_type": "markdown",
   "metadata": {},
   "source": [
    "### Step 4: Get the number of words in the text\n",
    "Let's calculate the number of words in the text. To do this, we can use the word_tokenize function from nltk. \n",
    "\n",
    "word_tokenize turns a string into a list containing individual words, which makes it perfect for the job. \n",
    "\n",
    "You can then use len on that list of individual words to get the number of words in each text.\n",
    "\n",
    "![WordLengthColumn](https://uplevelsg.s3-ap-southeast-1.amazonaws.com/ProjectHarryPotter/WordLengthColumn.png)"
   ]
  },
  {
   "cell_type": "code",
   "execution_count": null,
   "metadata": {},
   "outputs": [],
   "source": [
    "# Step 4: Create \"word_length\" column"
   ]
  },
  {
   "cell_type": "markdown",
   "metadata": {},
   "source": [
    "### Step 5: Get the number of sentences in the text\n",
    "Now that we've done the number of characters and words, next we will calculate the sentence length.\n",
    "\n",
    "Create a column called \"sentence_length\", containing the number of sentences in a particular text.\n",
    "\n",
    "nltk's sent_tokenize is perfect for the job, turning a string into a list containing sentences. \n",
    "\n",
    "Get the length of the list - that is the number of sentences in the text.\n",
    "\n",
    "![SentenceLengthColumn](https://uplevelsg.s3-ap-southeast-1.amazonaws.com/ProjectHarryPotter/SentenceLengthColumn.png)"
   ]
  },
  {
   "cell_type": "code",
   "execution_count": null,
   "metadata": {},
   "outputs": [],
   "source": [
    "# Step 5: Create 'sentence_length' column"
   ]
  },
  {
   "cell_type": "markdown",
   "metadata": {},
   "source": [
    "### Step 6: Plot \"char_length\" with a barplot\n",
    "Let's see how long each book is, in terms of letters/string characters. \n",
    "\n",
    "Plot a barplot illustrating the number of string characters in each book.\n",
    "\n",
    "When plotting the barplot, consider using a list containing numbers 1 to 7 as your x-axis. "
   ]
  },
  {
   "cell_type": "markdown",
   "metadata": {},
   "source": [
    "<details>\n",
    "    <summary><strong>Click once to see our plot</strong></summary>\n",
    "    <img src = \"https://uplevelsg.s3-ap-southeast-1.amazonaws.com/ProjectHarryPotter/CharLengthBarplot.png\">\n",
    "</details>"
   ]
  },
  {
   "cell_type": "code",
   "execution_count": null,
   "metadata": {},
   "outputs": [],
   "source": [
    "# Step 6: Plot \"char_length\" with barplot"
   ]
  },
  {
   "cell_type": "markdown",
   "metadata": {},
   "source": [
    "### Step 7: Plot 'word_length' with barplot\n",
    "Similarly, let's see if the pattern is the same with word_length. \n",
    "\n",
    "Plot a barplot with word_length."
   ]
  },
  {
   "cell_type": "code",
   "execution_count": null,
   "metadata": {},
   "outputs": [],
   "source": [
    "# Step 7: Plot \"word_length\" with barplot"
   ]
  },
  {
   "cell_type": "markdown",
   "metadata": {},
   "source": [
    "<details>\n",
    "    <summary><strong>Click once to see our plot</strong></summary>\n",
    "    <img src = \"https://uplevelsg.s3-ap-southeast-1.amazonaws.com/ProjectHarryPotter/WordLengthBarplot.png\">\n",
    "</details>"
   ]
  },
  {
   "cell_type": "markdown",
   "metadata": {},
   "source": [
    "### Step 8: Plot sentence_length with a barplot\n",
    "Wow ok the pattern between char_length and word_length is identical. Let's see if we observe the same thing as well with sentence_length. \n",
    "\n",
    "Plot sentence_length as a barplot."
   ]
  },
  {
   "cell_type": "code",
   "execution_count": null,
   "metadata": {},
   "outputs": [],
   "source": [
    "# Step 8: Plot \"sentence_length\" with barplot"
   ]
  },
  {
   "cell_type": "markdown",
   "metadata": {},
   "source": [
    "<details>\n",
    "    <summary><strong>Click once to see our plot</strong></summary>\n",
    "    <img src = \"https://uplevelsg.s3-ap-southeast-1.amazonaws.com/ProjectHarryPotter/SentenceLengthBarplot.png\">\n",
    "</details>\n",
    "<br>\n",
    "<details>\n",
    "    <summary><strong>What do you observe about the series with respect to char, word, and sentence length? Click once to see what we think</strong></summary>\n",
    "    <ul>\n",
    "        <li>char_length and word_length barplots are similar</li>\n",
    "        <li>char_length/word_length barplots are different from sentence_length</li>\n",
    "    </ul>\n",
    "</details>"
   ]
  },
  {
   "cell_type": "markdown",
   "metadata": {},
   "source": [
    "### Step 9: Create 'word_per_sentence' column\n",
    "Measuring and plotting absolute numbers are but one part of the story. \n",
    "\n",
    "We will continue our analysis by creating a new column called word_per_sentence, where \n",
    "\n",
    "$word\\_per\\_sentence = word\\_length \\div sentence\\_length$"
   ]
  },
  {
   "cell_type": "code",
   "execution_count": null,
   "metadata": {},
   "outputs": [],
   "source": [
    "# Step 9: Create \"word_per_sentence\" column"
   ]
  },
  {
   "cell_type": "markdown",
   "metadata": {},
   "source": [
    "### Step 10: Plot word_per_sentence with a barplot\n",
    "Next, let's plot the word_per_sentence with a barplot as well.\n",
    "\n",
    "This is a good plot since it gives a more balanced perspective on the metrics that we have observed so far. "
   ]
  },
  {
   "cell_type": "code",
   "execution_count": null,
   "metadata": {},
   "outputs": [],
   "source": [
    "# Step 10: Plot \"word_per_sentence\" with barplot"
   ]
  },
  {
   "cell_type": "markdown",
   "metadata": {},
   "source": [
    "<details>\n",
    "    <summary><strong>Click once to see our plot</strong></summary>\n",
    "    <img src = \"https://uplevelsg.s3-ap-southeast-1.amazonaws.com/ProjectHarryPotter/WordPerSentenceBarplot.png\">\n",
    "</details>\n",
    "<br>\n",
    "<details>\n",
    "    <summary><strong>What do you notice about the writing length in the series? Click once to find out.</strong></summary>\n",
    "    <div>With the exception of the second and last book, the word per sentence in all books are written quite consistently, with more or less 14-15 words per sentence.</div>\n",
    "</details>"
   ]
  },
  {
   "cell_type": "markdown",
   "metadata": {},
   "source": [
    "### Step 11: Generate Dale-Chall score for the text\n",
    "Textstat is a handy library that can do that, more information in the documentation <a href=\"https://github.com/shivam5992/textstat\">here</a>.\n",
    "\n",
    "Let's work with a score named Dale-Chall readibility score. The score is based on a list of 3000 words that fourth-graders commonly understand, and any words not in that list is considered difficult.\n",
    "\n",
    "Bear in mind a few things:\n",
    "- the texts are in slightly different formats, and the metrics generated provide only rough estimates of the reability\n",
    "- the scores typically depend on the difficulty of words, and words that are foreign to the English language, e.g., spells, are foreign and are considered difficult words\n",
    "- the scores should not be taken on its own, but used to compare between texts instead\n",
    "\n",
    "We won't spend too much time with generating the metrics, but it's a good practice session for you. \n",
    "\n",
    "More readings on Wikipedia: https://en.wikipedia.org/wiki/Dale%E2%80%93Chall_readability_formula"
   ]
  },
  {
   "cell_type": "code",
   "execution_count": null,
   "metadata": {},
   "outputs": [],
   "source": [
    "# Step 11: Generate the Dale-Chall score for the text"
   ]
  },
  {
   "cell_type": "markdown",
   "metadata": {},
   "source": [
    "<details>\n",
    "    <summary><strong>What do you observe about the Dale-Chall score of the series? Click once to see what we think</strong></summary>\n",
    "    <div>The scores should be around 2, making the series are pretty good book for 4th graders and below. That would be around 9-10 years of age. It also seems like Book 5 is relatively the hardest to read as well, based on the scores!/div>\n",
    "</details>"
   ]
  },
  {
   "cell_type": "markdown",
   "metadata": {},
   "source": [
    "### Step 12: Count the number of exclamation marks\n",
    "Characters in the series have a penchant for exclamation, so let's count the number of exclamation marks there are in the series.\n",
    "\n",
    "![ExclamationCountColumn](https://uplevelsg.s3-ap-southeast-1.amazonaws.com/ProjectHarryPotter/ExclamationCountColumn.png)\n",
    "\n",
    "Loop through each text, and in each text count the number of \"!\"."
   ]
  },
  {
   "cell_type": "markdown",
   "metadata": {},
   "source": [
    "<details>\n",
    "    <summary><strong>Click once for hint</strong></summary>\n",
    "    <div>Google \"program to count the total number of punctuation characters exists in a string\"</div>\n",
    "</details>"
   ]
  },
  {
   "cell_type": "code",
   "execution_count": null,
   "metadata": {},
   "outputs": [],
   "source": [
    "# Step 12: Count exclamation markes in texts"
   ]
  },
  {
   "cell_type": "markdown",
   "metadata": {},
   "source": [
    "### Step 13: Create \"sentence_per_exclamation\"\n",
    "As we have seen, ratio is more important than the absolute values. As such, let's create a column called \"sentence_per_exclamation\", where \n",
    "\n",
    "$sentence\\_per\\_exclamation = sentence\\_length \\div exclamation\\_count$\n",
    "\n",
    "How does this metric work? The lower the ratio, the more often characters use an exclamation mark in their speech, e.g., for surprise, yelling, etc."
   ]
  },
  {
   "cell_type": "code",
   "execution_count": null,
   "metadata": {},
   "outputs": [],
   "source": [
    "# Step 13: Create \"sentence_per_exclamation\""
   ]
  },
  {
   "cell_type": "markdown",
   "metadata": {},
   "source": [
    "### Step 14: Plot \"sentence_per_exclamation\"\n",
    "Use a barplot to plot the ratio, and see which series exclaims the most."
   ]
  },
  {
   "cell_type": "code",
   "execution_count": null,
   "metadata": {},
   "outputs": [],
   "source": [
    "# Step 14: Plot sentence_per_exclamation with a barplot"
   ]
  },
  {
   "cell_type": "markdown",
   "metadata": {},
   "source": [
    "<details>\n",
    "    <summary><strong>Click once to see our plot, and hear what we think</strong></summary>\n",
    "    <img src=\"https://uplevelsg.s3-ap-southeast-1.amazonaws.com/ProjectHarryPotter/SentencePerExclamationBarplot.png\">\n",
    "    <br>\n",
    "    <div>Looks like there is a lot of yelling in Book 3 and Book 7. Makes sense for Book 7, since the book is the final in the series and contains the climax of the conflict between good and evil.</div>\n",
    "</details>"
   ]
  },
  {
   "cell_type": "markdown",
   "metadata": {},
   "source": [
    "### End of Part II\n",
    "You're done with Part II! To recap, in this part you:\n",
    "- Generated quantitative metrics for text\n",
    "- Plotted the metrics for visualization and comparison\n",
    "\n",
    "In the next Part, you'll perform sentiment analysis on the text in the series."
   ]
  }
 ],
 "metadata": {
  "kernelspec": {
   "display_name": "Python 3",
   "language": "python",
   "name": "python3"
  },
  "language_info": {
   "codemirror_mode": {
    "name": "ipython",
    "version": 3
   },
   "file_extension": ".py",
   "mimetype": "text/x-python",
   "name": "python",
   "nbconvert_exporter": "python",
   "pygments_lexer": "ipython3",
   "version": "3.8.3"
  }
 },
 "nbformat": 4,
 "nbformat_minor": 4
}
