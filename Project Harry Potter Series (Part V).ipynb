{
 "cells": [
  {
   "cell_type": "markdown",
   "metadata": {},
   "source": [
    "# Introduction\n",
    "In Part III and Part IV, the text in the seven Books were analyzed and presented as lineplots and wordclouds respectively. \n",
    "\n",
    "For Part III, we looked at the sentiment of the sentences found in the text and Part IV examined the frequency and prominence of strings/characters with wordclouds. \n",
    "\n",
    "In this final Part, we use the text data to chart relationships between characters with network analysis. \n",
    "\n",
    "This will be done via:\n",
    "- Loading the DataFrame from Part I\n",
    "- Scraping Wikipedia to obtain a list of characters\n",
    "- Building a list of co-occuring characters for Book 1\n",
    "- Drawing a network graph based on the list\n",
    "- Repeating the steps for Books 2-7\n",
    "- Creating a GIF to show how the networks evolve over time\n",
    "\n",
    "### Step 1: Import libraries\n",
    "Before we start, let's import the following:\n",
    "- pandas as pd\n",
    "- matplotlib.pyplot as plt\n",
    "- networkx as nx\n",
    "- sent_tokenize from ntlk"
   ]
  },
  {
   "cell_type": "code",
   "execution_count": null,
   "metadata": {},
   "outputs": [],
   "source": [
    "# Step 1: Import libraries"
   ]
  },
  {
   "cell_type": "markdown",
   "metadata": {},
   "source": [
    "### Step 2: Read the CSV from Part I\n",
    "You know the drill - load the CSV that you got at the end of Part I."
   ]
  },
  {
   "cell_type": "code",
   "execution_count": null,
   "metadata": {},
   "outputs": [],
   "source": [
    "# Step 2: Read the CSV into a DataFrame"
   ]
  },
  {
   "cell_type": "markdown",
   "metadata": {},
   "source": [
    "## Obtain a list of characters\n",
    "Before we proceed with any analysis, we have to obtain a list of Harry Potter characters in the book universe.\n",
    "\n",
    "We can either:\n",
    "- manually list the characters\n",
    "- scrape the list from somewhere\n",
    "- acquire the list from somewhere\n",
    "\n",
    "We'll look into scraping the list of characters, because who has the time for the first and third method? \n",
    "\n",
    "### Step 3: Implement a Wikipedia scraper\n",
    "Don't worry, you won't implement from scratch.\n",
    "\n",
    "In fact, you can head on straight to this <a href=\"https://github.com/motizukilucas/harry-potter-wikipedia-scraper/blob/master/hp_character_name_scraper.py\">link</a> to copy the entire code for scraping.\n",
    "\n",
    "A few things to note:\n",
    "1. Remove .encode('utf-8') at line 18\n",
    "2. Comment out lines 31-34, i.e. we don't need to write our list of characters out\n",
    "\n",
    "You'll end up with something like this:\n",
    "\n",
    "![ListOfAllHPCharacters](https://uplevelsg.s3-ap-southeast-1.amazonaws.com/ProjectHarryPotter/ListOfAllHPCharacters.png)"
   ]
  },
  {
   "cell_type": "code",
   "execution_count": null,
   "metadata": {},
   "outputs": [],
   "source": [
    "# Step 3: Implement the code in the Github repo"
   ]
  },
  {
   "cell_type": "markdown",
   "metadata": {},
   "source": [
    "### Step 4: Get a set of unique name strings\n",
    "The full names won't appear often, so we'll have to split them into individual names, e.g., [\"Hannah Abbott\"] into [\"Hannah\", \"Abbott\"]. \n",
    "\n",
    "Here are the steps:\n",
    "- Split the strings in the list into individual strings \n",
    "- Replace \"(Mad-Eye)\" to \"Mad-Eye\" in the list\n",
    "- Turn the list into a set to eliminate duplicates\n",
    "\n",
    "Your set should have only 245 items."
   ]
  },
  {
   "cell_type": "code",
   "execution_count": null,
   "metadata": {},
   "outputs": [],
   "source": [
    "# Step 4: Get set of names, and don't forget to change Mad-Eye"
   ]
  },
  {
   "cell_type": "markdown",
   "metadata": {},
   "source": [
    "## Network analysis preparation for one text\n",
    "Now we have all the pieces in place, we can now create a network for the first book.\n",
    "\n",
    "![NetworkAnalysisApproach](https://uplevelsg.s3-ap-southeast-1.amazonaws.com/ProjectHarryPotter/NetworkAnalysisApproachExample.png)\n",
    "\n",
    "In our project, we define characters to co-occur when they are found in the same sentence.\n",
    "\n",
    "In the following approach, these are the steps:\n",
    "1. <font color='red'>Split a full text into sentences</font>\n",
    "2. <font color='green'>Loop through each word in the sentence and detect whether the name is in the list of names</font>\n",
    "3. <font color='blue'>Create a list containing the names that co-occured in the sentence</font>\n",
    "\n",
    "### [Optional] Read the reading\n",
    "A highly recommended step - this resource will be immensely helpful in implementing Step 7: https://towardsdatascience.com/populating-a-network-graph-with-named-entities-fb8e3d2a380f\n",
    "\n",
    "### Step 5: Get the text from the first Book\n",
    "Declare a variable that contains the full text from the first book."
   ]
  },
  {
   "cell_type": "code",
   "execution_count": null,
   "metadata": {
    "scrolled": true
   },
   "outputs": [],
   "source": [
    "# Step 5: Get Book 1 text"
   ]
  },
  {
   "cell_type": "markdown",
   "metadata": {},
   "source": [
    "### Step 6: Tokenize the text into sentences\n",
    "Use sent_tokenize from the nltk library to split the full text into sentences.\n",
    "\n",
    "You will end up with a list of sentences."
   ]
  },
  {
   "cell_type": "code",
   "execution_count": null,
   "metadata": {},
   "outputs": [],
   "source": [
    "# Step 6: Split the full text into sentences"
   ]
  },
  {
   "cell_type": "markdown",
   "metadata": {},
   "source": [
    "### Step 7: Extract entities from the sentences\n",
    "Now that we have a list of sentences, loop through each sentence in the text to detect whether the string is a name found in the list of characters.\n",
    "\n",
    "![BookOneEntities](https://uplevelsg.s3-ap-southeast-1.amazonaws.com/ProjectHarryPotter/BookOneEntities.png)\n",
    "\n",
    "The \"Extract Entities\" section in the reading above is immensely helpful, with a few modifications."
   ]
  },
  {
   "cell_type": "markdown",
   "metadata": {},
   "source": [
    "<details>\n",
    "    <summary><strong>Click here once if you're stuck and need pseudocode</strong></summary>\n",
    "    <ol>\n",
    "        <li>Declare an empty list (List 1)</li>\n",
    "        <li>Use a for loop to loop through the sentences from Step 6. In each loop:</li>\n",
    "        <ul>\n",
    "            <li>Take the current sentence, and split it based on \" \", getting a list of words</li>\n",
    "            <li>Declare an empty list (List 2)</li>\n",
    "            <li>Use a for loop to loop through the list of words. In each loop:</li>\n",
    "            <ul>\n",
    "                <li>Check if the current word is in the list of names from Step 4</li>\n",
    "                <ul>\n",
    "                    <li>Append the word in List 2 if the current word is</li>\n",
    "                </ul>\n",
    "            </ul>\n",
    "            <li>Append List 2 into List 1</li>\n",
    "        </ul>\n",
    "    </ol>\n",
    "</details>    \n"
   ]
  },
  {
   "cell_type": "markdown",
   "metadata": {},
   "source": [
    "<details>\n",
    "    <summary><strong>Click here once for another hint from the reading above/strong></summary>\n",
    "    <img src = 'https://uplevelsg.s3-ap-southeast-1.amazonaws.com/ProjectHarryPotter/EntityExtractionHint2.png'>\n",
    "<details>"
   ]
  },
  {
   "cell_type": "code",
   "execution_count": null,
   "metadata": {
    "scrolled": true
   },
   "outputs": [],
   "source": [
    "# Step 7: Extract entities from the sentences"
   ]
  },
  {
   "cell_type": "markdown",
   "metadata": {},
   "source": [
    "### Step 8: Remove short and empty lists\n",
    "Now that you have your list of lists of names, it's time to remove lists that are either empty or has only one item inside.\n",
    "\n",
    "E.g., [] will be removed, and [\"Harry\"] will be removed as well.\n",
    "\n",
    "![CleanedEntitiesBookOne](https://uplevelsg.s3-ap-southeast-1.amazonaws.com/ProjectHarryPotter/CleanedEntitiesBookOne.png)\n",
    "\n",
    "If all goes well, your list should contain only lists that have more than or equals to two items inside."
   ]
  },
  {
   "cell_type": "code",
   "execution_count": null,
   "metadata": {},
   "outputs": [],
   "source": [
    "# Step 8: Clean your list of entities"
   ]
  },
  {
   "cell_type": "markdown",
   "metadata": {},
   "source": [
    "## Creating a network graph from the prepared lists\n",
    "That was tough. Now, let's construct a graph and then plot it. \n",
    "\n",
    "The \"Create a Network Graph\" section in the reading above will be a very useful resource to follow.\n",
    "\n",
    "### Step 9: Create a Graph object\n",
    "We will need to create a Graph object first before we can start adding nodes and edges.\n",
    "\n",
    "Declare a variable that contains a Graph object."
   ]
  },
  {
   "cell_type": "code",
   "execution_count": null,
   "metadata": {},
   "outputs": [],
   "source": [
    "# Step 9: Create a Graph object"
   ]
  },
  {
   "cell_type": "markdown",
   "metadata": {},
   "source": [
    "### Step 10: Add nodes into the graph\n",
    "Loop through the list you obtained from Step 8, and add them as nodes into your Graph.\n",
    "\n",
    "You will need to call the .add_nodes_from method from the Graph object. Again, the reading is a useful resource."
   ]
  },
  {
   "cell_type": "code",
   "execution_count": null,
   "metadata": {},
   "outputs": [],
   "source": [
    "# Step 10: Add nodes into the graph"
   ]
  },
  {
   "cell_type": "markdown",
   "metadata": {},
   "source": [
    "### Step 11: Add edges into the graph\n",
    "After the nodes are added, time to add edges to the graph. \n",
    "\n",
    "In general, the process of adding edges between node 1 and node 2 is something like this:\n",
    "\n",
    "```\n",
    "Graph.add_edges_from([node_1], [node_2])\n",
    "\n",
    "```\n",
    "There's a code snippet in article that will be immensely helpful. "
   ]
  },
  {
   "cell_type": "code",
   "execution_count": null,
   "metadata": {
    "scrolled": true
   },
   "outputs": [],
   "source": [
    "# Step 11: Add edges to the graph"
   ]
  },
  {
   "cell_type": "markdown",
   "metadata": {},
   "source": [
    "### Step 12: Plot the network graph\n",
    "Now that you have both the edges and the nodes, it's time to plot it! \n",
    "\n",
    "We'll draw our graph in a concentric circle, so we'll use nx.draw_shell. A few parameters to note:\n",
    "- node_size = 50\n",
    "- with_labels = True\n",
    "- verticalalignment = 'bottom'\n",
    "- font_color = 'red'\n",
    "- font_size = 15\n",
    "\n",
    "For best viewing, make sure you configure the plot size as well to something like (16,16), and don't forget to add a title too.\n",
    "\n",
    "We'll start with these parameters, and we'll add more parameters later."
   ]
  },
  {
   "cell_type": "code",
   "execution_count": null,
   "metadata": {},
   "outputs": [],
   "source": [
    "# Step 12: Plot the network graph"
   ]
  },
  {
   "cell_type": "markdown",
   "metadata": {},
   "source": [
    "<details>\n",
    "    <summary><strong>Click once to see what we got</strong></summary>\n",
    "    <img src = \"https://uplevelsg.s3-ap-southeast-1.amazonaws.com/ProjectHarryPotter/BookOneNetworkGraphV1.png\">\n",
    "</details>"
   ]
  },
  {
   "cell_type": "markdown",
   "metadata": {},
   "source": [
    "### Step 13: Add weights to the edges\n",
    "The network looks good, i.e. it maps the relationship between characters. \n",
    "\n",
    "However, there's no weight to the relationship, i.e. how strong the relationship is. \n",
    "\n",
    "We'll need to <font color='red'><strong>repeat Steps 9-11, and modify Step 11</strong></font> by adding four new lines to add weights into the edges.\n",
    "\n",
    "To add weights to edges, you can do this:\n",
    "```\n",
    "G[node_1][node_2]['weight'] = some_value\n",
    "```\n",
    "\n",
    "To update the weights in edges, you can do this:\n",
    "```\n",
    "G[node_1][node_2]['weight'] += some_value_2\n",
    "```\n",
    "A few considerations:\n",
    "- use a try/except block\n",
    "- initialize the weights to be 1\n",
    "- subsequently, every weight update for existing pairs is 0.2"
   ]
  },
  {
   "cell_type": "code",
   "execution_count": null,
   "metadata": {},
   "outputs": [],
   "source": [
    "# Step 13a: Create a new Graph object"
   ]
  },
  {
   "cell_type": "code",
   "execution_count": null,
   "metadata": {},
   "outputs": [],
   "source": [
    "# Step 13b: Add nodes to the Graph"
   ]
  },
  {
   "cell_type": "code",
   "execution_count": null,
   "metadata": {},
   "outputs": [],
   "source": [
    "# Step 13c: Add edges to the nodes, with a try/except block to add weights"
   ]
  },
  {
   "cell_type": "markdown",
   "metadata": {},
   "source": [
    "<details>\n",
    "    <summary><strong>Click here once if you're stuck with Step 13c</strong></summary>\n",
    "    <p>We don't usually do this, i.e. give you code directly, but after the line on .add_edges_from, immediately add the code below. Replace node_1 and node_2 with other things:</p>\n",
    "    <p style=\"font-family: monospace\">try:</p>\n",
    "    <p style=\"font-family: monospace\">&nbsp;&nbsp;&nbsp;&nbsp;G[node_1][node_2]['weight'] += 0.2</p>\n",
    "    <p style=\"font-family: monospace\">except:</p>\n",
    "    <p style=\"font-family: monospace\">&nbsp;&nbsp;&nbsp;&nbsp;G[node_1][node_2]['weight'] = 1</p>    \n",
    "</details>"
   ]
  },
  {
   "cell_type": "markdown",
   "metadata": {},
   "source": [
    "### Step 14: Check weights between nodes\n",
    "Let's check if the addition of weights went well.\n",
    "\n",
    "Retrieving the weight of edges is relatively straightforward:\n",
    "```\n",
    "G[node_1][node_1]['weight']\n",
    "```\n",
    "Check the weight of the edge between \"Harry\" and \"Hagrid\". You should get 8.6. If you get 8.600000001 it's ok as well."
   ]
  },
  {
   "cell_type": "code",
   "execution_count": null,
   "metadata": {},
   "outputs": [],
   "source": [
    "# Step 14: Check the weight between Harry and Hagrid nodes"
   ]
  },
  {
   "cell_type": "markdown",
   "metadata": {},
   "source": [
    "### Step 15: Get all weights from the edges\n",
    "If Harry and Hagrid's weight seems fine, let's retrieve all of the nodes' edges' weights.\n",
    "\n",
    "To do this, use NetworkX's .get_edge_attributes method, with the Graph object and 'weight' as parameters.\n",
    "\n",
    "![BookOneEdgeWeights](https://uplevelsg.s3-ap-southeast-1.amazonaws.com/ProjectHarryPotter/BookOneEdgeWeights.png)\n",
    "\n",
    "You will get a dictionary containing the node pairs and the respective edge weights."
   ]
  },
  {
   "cell_type": "code",
   "execution_count": null,
   "metadata": {
    "scrolled": true
   },
   "outputs": [],
   "source": [
    "# Step 15: Get all weights from the edges"
   ]
  },
  {
   "cell_type": "markdown",
   "metadata": {},
   "source": [
    "### Step 16: Get values only from the weight dictionary\n",
    "Currently, your weights are still in the form of:\n",
    "```\n",
    "weights = {(node_1, node_2): weight_1, (node_3, node_4): weight_2}, ... }\n",
    "```\n",
    "Retrieve the values from the dictionary with the .values method, and turn the values into a list using the <font color='green'>list</font> function."
   ]
  },
  {
   "cell_type": "code",
   "execution_count": null,
   "metadata": {},
   "outputs": [],
   "source": [
    "# Step 16: Get a list of weights"
   ]
  },
  {
   "cell_type": "markdown",
   "metadata": {},
   "source": [
    "### Step 17: Repeat Step 12 to plot the network graph with weights\n",
    "Repeat Step 12 to plot the network graph, but with the weights by adding the following parameter:\n",
    "- width = the_list_you_got_from_Step_16"
   ]
  },
  {
   "cell_type": "code",
   "execution_count": null,
   "metadata": {
    "scrolled": false
   },
   "outputs": [],
   "source": [
    "# Step 17: Plot network graph with weights"
   ]
  },
  {
   "cell_type": "markdown",
   "metadata": {},
   "source": [
    "<details>\n",
    "    <summary><strong>Click once to see what we got</strong></summary>\n",
    "    <img src = \"https://uplevelsg.s3-ap-southeast-1.amazonaws.com/ProjectHarryPotter/1.png\">\n",
    "</details>"
   ]
  },
  {
   "cell_type": "markdown",
   "metadata": {},
   "source": [
    "## Network analysis for all Books\n",
    "Now that you've figured out how to plot the network graph of one Book, it's time to do the rest.\n",
    "\n",
    "### Step 18: Repeat Steps 5-17 for all Books\n",
    "Loop through all the Steps that you did for Book 1, and stitch everything together. \n",
    "\n",
    "To recap, each Step goes like this:\n",
    "- Tokenize the full text into sentences\n",
    "- Search for characters in each sentence\n",
    "- Clean the list of list of characters\n",
    "- Create a Graph object\n",
    "- Add nodes\n",
    "- Add edges with weights\n",
    "- Plot Graph\n",
    "\n",
    "[Optional] After plotting, use a .savefig from plt to save your graph as well. With the seven graphs, we can create a gif to see how the network evolves throughout the books."
   ]
  },
  {
   "cell_type": "code",
   "execution_count": null,
   "metadata": {
    "scrolled": true
   },
   "outputs": [],
   "source": [
    "# Step 18: Loop through all the Books and plot a Graph       \n",
    "    \n",
    "    # Optional: add a .savefig method call to save your image\n",
    "    "
   ]
  },
  {
   "cell_type": "markdown",
   "metadata": {},
   "source": [
    "### [Optional] Create a GIF of the seven images\n",
    "If you saved the images of the networks in your folder, you can stitch them into a GIF! \n",
    "\n",
    "We'll have to:\n",
    "- import imageio\n",
    "- create the gif using the seven images\n",
    "- slow down the gif (fps=0.75)\n",
    "\n",
    "Resources for reference: \n",
    "- https://towardsdatascience.com/basics-of-gifs-with-pythons-matplotlib-54dd544b6f30\n",
    "- https://stackoverflow.com/questions/43160619/speed-up-existing-gif-with-imageio-python"
   ]
  },
  {
   "cell_type": "code",
   "execution_count": null,
   "metadata": {},
   "outputs": [],
   "source": [
    "# Import imageio"
   ]
  },
  {
   "cell_type": "code",
   "execution_count": null,
   "metadata": {},
   "outputs": [],
   "source": [
    "# lmplement the gif creator (first reading)"
   ]
  },
  {
   "cell_type": "code",
   "execution_count": null,
   "metadata": {},
   "outputs": [],
   "source": [
    "# Slow down the gif, with fps=0.75 (second reading)"
   ]
  },
  {
   "cell_type": "markdown",
   "metadata": {},
   "source": [
    "<details>\n",
    "    <summary><strong>Click here once to see our GIF</strong></summary>\n",
    "    <img src = \"https://uplevelsg.s3-ap-southeast-1.amazonaws.com/ProjectHarryPotter/mygif_slow.gif\">\n",
    "</details>"
   ]
  },
  {
   "cell_type": "markdown",
   "metadata": {},
   "source": [
    "# The End\n",
    "We're finally done with the project series! \n",
    "\n",
    "In the Part, we created not just one but seven different network graphs. We also had the chance to create a GIF to see how the networks evolve over time.\n",
    "\n",
    "For the project recap, you have:\n",
    "1. Collected and cleaned text from seven books\n",
    "2. Calculated metrics on the books for visualization\n",
    "3. Performed sentiment analysis on the texts \n",
    "4. Created wordclouds on the texts\n",
    "5. Charted network graphs of all of the characters\n",
    "\n",
    "We hope this project series has UpLevelled you and your skills.\n",
    "\n",
    "Whatever you learn here is but a tip of the iceberg, and launchpad for bigger and better things to come.\n",
    "\n",
    "Come join us in our Telegram community over at https://bit.ly/UpLevelSG and our Facebook page at https://fb.com/UpLevelSG\n",
    "\n",
    "<strong>Most importantly, UpLevel won't be what it is today without learners like yourself so help us grow by spreading the word and get more subscribers <font color='red'><3</font></strong>"
   ]
  }
 ],
 "metadata": {
  "kernelspec": {
   "display_name": "Python 3",
   "language": "python",
   "name": "python3"
  },
  "language_info": {
   "codemirror_mode": {
    "name": "ipython",
    "version": 3
   },
   "file_extension": ".py",
   "mimetype": "text/x-python",
   "name": "python",
   "nbconvert_exporter": "python",
   "pygments_lexer": "ipython3",
   "version": "3.8.3"
  }
 },
 "nbformat": 4,
 "nbformat_minor": 4
}
